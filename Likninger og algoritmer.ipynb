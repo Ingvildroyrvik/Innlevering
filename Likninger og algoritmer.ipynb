{
 "cells": [
  {
   "cell_type": "markdown",
   "metadata": {},
   "source": [
    "# Kvadratrotalgoritme"
   ]
  },
  {
   "cell_type": "code",
   "execution_count": 6,
   "metadata": {},
   "outputs": [
    {
     "name": "stdout",
     "output_type": "stream",
     "text": [
      "Hva gjetter du kvadratroten er?12\n",
      "3.4641016151377544\n"
     ]
    }
   ],
   "source": [
    "\n",
    "\n",
    "gjett = float(input((\"Hva gjetter du kvadratroten er?\")))\n",
    "\n",
    "def f(gjett):\n",
    "    return 1/2 * (gjett + (12 / gjett))\n",
    "\n",
    "for i in range (7):\n",
    "    gjett = f(gjett)\n",
    "    \n",
    "print(gjett)"
   ]
  },
  {
   "cell_type": "markdown",
   "metadata": {},
   "source": [
    "# Halveringsmetoden"
   ]
  },
  {
   "cell_type": "code",
   "execution_count": 5,
   "metadata": {},
   "outputs": [
    {
     "ename": "NameError",
     "evalue": "name 'g' is not defined",
     "output_type": "error",
     "traceback": [
      "\u001b[0;31m---------------------------------------------------------------------------\u001b[0m",
      "\u001b[0;31mNameError\u001b[0m                                 Traceback (most recent call last)",
      "\u001b[0;32m<ipython-input-5-ad6ea36ccd52>\u001b[0m in \u001b[0;36m<module>\u001b[0;34m\u001b[0m\n\u001b[1;32m     14\u001b[0m     \u001b[0;32mreturn\u001b[0m \u001b[0mm\u001b[0m\u001b[0;34m,\u001b[0m \u001b[0mi\u001b[0m\u001b[0;34m\u001b[0m\u001b[0;34m\u001b[0m\u001b[0m\n\u001b[1;32m     15\u001b[0m \u001b[0;34m\u001b[0m\u001b[0m\n\u001b[0;32m---> 16\u001b[0;31m \u001b[0ma\u001b[0m \u001b[0;34m=\u001b[0m \u001b[0mhalverings\u001b[0m\u001b[0;34m(\u001b[0m\u001b[0;34m-\u001b[0m\u001b[0;36m5\u001b[0m\u001b[0;34m,\u001b[0m\u001b[0;36m10\u001b[0m\u001b[0;34m,\u001b[0m\u001b[0mg\u001b[0m\u001b[0;34m)\u001b[0m\u001b[0;34m\u001b[0m\u001b[0;34m\u001b[0m\u001b[0m\n\u001b[0m\u001b[1;32m     17\u001b[0m \u001b[0mprint\u001b[0m\u001b[0;34m(\u001b[0m\u001b[0ma\u001b[0m\u001b[0;34m)\u001b[0m\u001b[0;34m\u001b[0m\u001b[0;34m\u001b[0m\u001b[0m\n",
      "\u001b[0;31mNameError\u001b[0m: name 'g' is not defined"
     ]
    }
   ],
   "source": [
    "\n",
    "def f(x):\n",
    "    return x + 5\n",
    "\n",
    "def halverings(a,b,f,tol=1E-10):\n",
    "    m = (a+b)/2\n",
    "    i = 0\n",
    "    while abs(f(m)) > tol:\n",
    "        if f(a) * f(m ) < 0:\n",
    "            b = m\n",
    "        elif f(b) * f(m) > 0:\n",
    "            a = m \n",
    "        m = (a+b)/2\n",
    "        i = i +1\n",
    "    return m, i\n",
    "     \n",
    "a = halverings(-5,10,g)\n",
    "print(a)"
   ]
  },
  {
   "cell_type": "markdown",
   "metadata": {},
   "source": [
    "## Newtons metode\n",
    "\n",
    "Vi har en kontinuerlig funksjon f. Vi tilnærmer nullpunktet til f med nullpunktet til tangentene:\n",
    "\n",
    "$$x_{n+1} = x_{n} - \\frac{f(x_n)}{f'(x_n)}$$\n",
    "\n",
    "Ulemper:\n",
    "    - du trenger den deriverte av funksjonen\n",
    "    - den kan møte på ekstremalpunkter som gjør at metoden ikke konvergerer\n",
    "    - den kan sette seg fast i f.eks. tredjegradsfunksjoner\n",
    "    \n",
    "Fordeler:\n",
    "    - metoden konvergerer raskt mot nullpunktet"
   ]
  },
  {
   "cell_type": "code",
   "execution_count": 1,
   "metadata": {},
   "outputs": [
    {
     "name": "stdout",
     "output_type": "stream",
     "text": [
      "Nullpunktet er: 2.0000000000000235 og løkka gikk: 14 ganger.\n"
     ]
    }
   ],
   "source": [
    "def f(x):\n",
    "    return x**2 - 4\n",
    "    \n",
    "def fder(x):\n",
    "    return 2*x\n",
    "\n",
    "def newtons(f, fder, x, tol=1E-8, N=100):\n",
    "    i = 0\n",
    "    while abs(f(x)) > tol and i < 100:\n",
    "        x = x - (f(x)/fder(x))\n",
    "        i = i + 1\n",
    "    return x, i\n",
    "    \n",
    "nullpunkt, antall = newtons(f, fder, 2000)\n",
    "print(\"Nullpunktet er:\", nullpunkt, \"og løkka gikk:\", antall, \"ganger.\")"
   ]
  },
  {
   "cell_type": "markdown",
   "metadata": {},
   "source": [
    "## Skyte spurver med kanoner"
   ]
  },
  {
   "cell_type": "markdown",
   "metadata": {},
   "source": [
    "LENGDE: 45 grader: 380, 380, 380, 360, 380"
   ]
  },
  {
   "cell_type": "code",
   "execution_count": 4,
   "metadata": {},
   "outputs": [
    {
     "name": "stdout",
     "output_type": "stream",
     "text": [
      "Kula bruer 0.9802925496194242 sekunder fra den blir skutt ut til den treffer bakken.\n",
      "Kula blir skutt 4.713566263801306 meter.\n",
      "[5.772916107555063]\n",
      "[0.5235987755982988]\n"
     ]
    }
   ],
   "source": [
    "from pylab import*\n",
    "\n",
    "vinkel = pi/4\n",
    "v_0 = 6.8        #m/s \n",
    "tol = 1E-5\n",
    "t = 10           #tid i sekunder\n",
    "N = 100\n",
    "i = 0\n",
    "\n",
    "def hoyde(t, vinkel):\n",
    "    return v_0 * sin(vinkel) * t - 0.5*9.81*t**2\n",
    "\n",
    "def hoydeder(t):\n",
    "    return v_0 * sin(vinkel) - 9.81 * t\n",
    "\n",
    "def lengde(t, vinkel):\n",
    "    return v_0 * cos(vinkel) * t\n",
    "\n",
    "\n",
    "while abs(hoyde(t, vinkel)) > tol and i <= 100:\n",
    "    i += 1\n",
    "    t = t - hoyde(t, vinkel)/hoydeder(t)\n",
    "\n",
    "print(\"Kula bruer\", t, \"sekunder fra den blir skutt ut til den treffer bakken.\")\n",
    "print(\"Kula blir skutt\", lengde(t, vinkel), \"meter.\")\n",
    "\n",
    "#Sjekker hvilken vinkel som skyter kulen lengst\n",
    "\n",
    "listelengde = [0]\n",
    "listevinkel = [0]\n",
    "\n",
    "for k in range(3, 7):\n",
    "    vinkel = pi/k\n",
    "    sted = lengde(t, vinkel)\n",
    "    if sted > listelengde[0]:\n",
    "        listelengde.pop(0)\n",
    "        listelengde.append(sted)\n",
    "        listevinkel.pop(0)\n",
    "        listevinkel.append(vinkel)\n",
    "        \n",
    "        \n",
    "print(listelengde)\n",
    "print(listevinkel) "
   ]
  },
  {
   "cell_type": "code",
   "execution_count": null,
   "metadata": {},
   "outputs": [],
   "source": []
  }
 ],
 "metadata": {
  "kernelspec": {
   "display_name": "Python 3",
   "language": "python",
   "name": "python3"
  },
  "language_info": {
   "codemirror_mode": {
    "name": "ipython",
    "version": 3
   },
   "file_extension": ".py",
   "mimetype": "text/x-python",
   "name": "python",
   "nbconvert_exporter": "python",
   "pygments_lexer": "ipython3",
   "version": "3.7.3"
  }
 },
 "nbformat": 4,
 "nbformat_minor": 2
}
